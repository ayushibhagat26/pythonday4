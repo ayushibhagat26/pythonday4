{
 "cells": [
  {
   "cell_type": "code",
   "execution_count": null,
   "id": "statistical-oakland",
   "metadata": {},
   "outputs": [],
   "source": [
    "Adding whitespaces to string:"
   ]
  },
  {
   "cell_type": "code",
   "execution_count": null,
   "id": "together-contemporary",
   "metadata": {},
   "outputs": [],
   "source": [
    "Requirement : I am collecting the data from the students of their fav langauges?"
   ]
  },
  {
   "cell_type": "code",
   "execution_count": 1,
   "id": "loaded-second",
   "metadata": {},
   "outputs": [
    {
     "name": "stdout",
     "output_type": "stream",
     "text": [
      "favlanguages:pythonccobalc++java\n"
     ]
    }
   ],
   "source": [
    "print(\"favlanguages:pythonccobalc++java\")"
   ]
  },
  {
   "cell_type": "code",
   "execution_count": null,
   "id": "hairy-logistics",
   "metadata": {},
   "outputs": [],
   "source": [
    "#enhancment of the code...!"
   ]
  },
  {
   "cell_type": "code",
   "execution_count": 2,
   "id": "spare-arrow",
   "metadata": {},
   "outputs": [
    {
     "name": "stdout",
     "output_type": "stream",
     "text": [
      "favlanguages:\n",
      "python\n",
      "c\n",
      "cobal\n",
      "c++\n",
      "java\n"
     ]
    }
   ],
   "source": [
    "print(\"favlanguages:\\npython\\nc\\ncobal\\nc++\\njava\") # \\n --> delimiter --> newline delimiter"
   ]
  },
  {
   "cell_type": "code",
   "execution_count": 3,
   "id": "weighted-hampshire",
   "metadata": {},
   "outputs": [
    {
     "name": "stdout",
     "output_type": "stream",
     "text": [
      "favlanguages:\n",
      "\tpython\n",
      "\tc\n",
      "\tcobal\n",
      "\tc++\n",
      "\tjava\n"
     ]
    }
   ],
   "source": [
    "print(\"favlanguages:\\n\\tpython\\n\\tc\\n\\tcobal\\n\\tc++\\n\\tjava\") #\\t --> tab delimiter \\t --->4 lines of space it will be creating"
   ]
  },
  {
   "cell_type": "code",
   "execution_count": null,
   "id": "chronic-future",
   "metadata": {},
   "outputs": [],
   "source": []
  },
  {
   "cell_type": "code",
   "execution_count": null,
   "id": "corresponding-visiting",
   "metadata": {},
   "outputs": [],
   "source": [
    "Removing whitespaces from a string:"
   ]
  },
  {
   "cell_type": "code",
   "execution_count": null,
   "id": "suited-gathering",
   "metadata": {},
   "outputs": [],
   "source": []
  },
  {
   "cell_type": "code",
   "execution_count": 4,
   "id": "compressed-portsmouth",
   "metadata": {},
   "outputs": [
    {
     "name": "stdout",
     "output_type": "stream",
     "text": [
      "python\n"
     ]
    }
   ],
   "source": [
    "x = \"python\"  # it is valid and is correct\n",
    "\n",
    "print(x) "
   ]
  },
  {
   "cell_type": "code",
   "execution_count": 7,
   "id": "centered-bottom",
   "metadata": {},
   "outputs": [
    {
     "name": "stdout",
     "output_type": "stream",
     "text": [
      "   pyhton\n"
     ]
    }
   ],
   "source": [
    "y = \"   pyhton\"  # have gap of the left side \n",
    "\n",
    "print(y)  "
   ]
  },
  {
   "cell_type": "code",
   "execution_count": 8,
   "id": "handled-taiwan",
   "metadata": {},
   "outputs": [
    {
     "name": "stdout",
     "output_type": "stream",
     "text": [
      "python   \n"
     ]
    }
   ],
   "source": [
    "z = \"python   \" # have gap on the right side....! \n",
    "\n",
    "print(z) "
   ]
  },
  {
   "cell_type": "code",
   "execution_count": 9,
   "id": "early-cooper",
   "metadata": {},
   "outputs": [
    {
     "data": {
      "text/plain": [
       "'pyhton'"
      ]
     },
     "execution_count": 9,
     "metadata": {},
     "output_type": "execute_result"
    }
   ],
   "source": [
    "y.lstrip()  # leftstrip ====> it will strip off the space"
   ]
  },
  {
   "cell_type": "code",
   "execution_count": 10,
   "id": "martial-feelings",
   "metadata": {},
   "outputs": [
    {
     "name": "stdout",
     "output_type": "stream",
     "text": [
      "   pyhton\n"
     ]
    }
   ],
   "source": [
    "print(y) "
   ]
  },
  {
   "cell_type": "code",
   "execution_count": 11,
   "id": "constitutional-radiation",
   "metadata": {},
   "outputs": [
    {
     "data": {
      "text/plain": [
       "'python'"
      ]
     },
     "execution_count": 11,
     "metadata": {},
     "output_type": "execute_result"
    }
   ],
   "source": [
    "z.rstrip()  # rightstrip"
   ]
  },
  {
   "cell_type": "code",
   "execution_count": 12,
   "id": "known-ceremony",
   "metadata": {},
   "outputs": [
    {
     "name": "stdout",
     "output_type": "stream",
     "text": [
      "   python   \n"
     ]
    }
   ],
   "source": [
    "a = \"   python   \"  # strip ===> it will be eliminating the gap on both the sides. ===> searching +\n",
    "print(a)           #used it when you dont know on what side gap is "
   ]
  },
  {
   "cell_type": "code",
   "execution_count": 14,
   "id": "prime-thanks",
   "metadata": {},
   "outputs": [
    {
     "data": {
      "text/plain": [
       "'python'"
      ]
     },
     "execution_count": 14,
     "metadata": {},
     "output_type": "execute_result"
    }
   ],
   "source": [
    "a.strip()   # strip "
   ]
  },
  {
   "cell_type": "code",
   "execution_count": null,
   "id": "collective-netscape",
   "metadata": {},
   "outputs": [],
   "source": []
  },
  {
   "cell_type": "code",
   "execution_count": null,
   "id": "fabulous-bread",
   "metadata": {},
   "outputs": [],
   "source": [
    "Zen of python ---> principles /Rules. "
   ]
  },
  {
   "cell_type": "code",
   "execution_count": 13,
   "id": "everyday-madonna",
   "metadata": {},
   "outputs": [
    {
     "name": "stdout",
     "output_type": "stream",
     "text": [
      "The Zen of Python, by Tim Peters\n",
      "\n",
      "Beautiful is better than ugly.\n",
      "Explicit is better than implicit.\n",
      "Simple is better than complex.\n",
      "Complex is better than complicated.\n",
      "Flat is better than nested.\n",
      "Sparse is better than dense.\n",
      "Readability counts.\n",
      "Special cases aren't special enough to break the rules.\n",
      "Although practicality beats purity.\n",
      "Errors should never pass silently.\n",
      "Unless explicitly silenced.\n",
      "In the face of ambiguity, refuse the temptation to guess.\n",
      "There should be one-- and preferably only one --obvious way to do it.\n",
      "Although that way may not be obvious at first unless you're Dutch.\n",
      "Now is better than never.\n",
      "Although never is often better than *right* now.\n",
      "If the implementation is hard to explain, it's a bad idea.\n",
      "If the implementation is easy to explain, it may be a good idea.\n",
      "Namespaces are one honking great idea -- let's do more of those!\n"
     ]
    }
   ],
   "source": [
    "import this "
   ]
  },
  {
   "cell_type": "code",
   "execution_count": null,
   "id": "human-consequence",
   "metadata": {},
   "outputs": [],
   "source": []
  }
 ],
 "metadata": {
  "kernelspec": {
   "display_name": "Python 3",
   "language": "python",
   "name": "python3"
  },
  "language_info": {
   "codemirror_mode": {
    "name": "ipython",
    "version": 3
   },
   "file_extension": ".py",
   "mimetype": "text/x-python",
   "name": "python",
   "nbconvert_exporter": "python",
   "pygments_lexer": "ipython3",
   "version": "3.8.5"
  }
 },
 "nbformat": 4,
 "nbformat_minor": 5
}
